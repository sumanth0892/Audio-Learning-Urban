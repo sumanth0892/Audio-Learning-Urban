{
 "cells": [
  {
   "cell_type": "code",
   "execution_count": 2,
   "metadata": {},
   "outputs": [],
   "source": [
    "#Import the necessary libraries \n",
    "import numpy as np\n",
    "import getData as gD\n",
    "from sklearn import metrics\n",
    "from keras.optimizers import Adam\n",
    "from keras.models import Sequential\n",
    "from keras.utils.np_utils import to_categorical\n",
    "from sklearn.model_selection import train_test_split\n",
    "from keras.layers import (Dense, Dropout, Activation, Flatten,Conv2D, MaxPooling2D)"
   ]
  },
  {
   "cell_type": "code",
   "execution_count": null,
   "metadata": {},
   "outputs": [],
   "source": [
    "#Get the datasets \n",
    "(X,Y) = gD.splitDataSet()\n",
    "m,n = X.shape\n",
    "nLabels = Y.shape[1]\n",
    "nChannels = 1\n",
    "X = np.reshape(X, (m,n,num_channels))\n",
    "Y = to_categorical(Y)\n",
    "x_train, x_test, y_train, y_test = train_test_split(X, Y, test_size=0.2, random_state = 42)\n",
    "del X,Y #Free up some memory"
   ]
  },
  {
   "cell_type": "code",
   "execution_count": null,
   "metadata": {},
   "outputs": [],
   "source": [
    "#Build the model\n",
    "model = Sequential()\n",
    "model.add(32,activation = 'relu',kernel_size = 3,strides = 2,padding = 'same',input_shape = (m,n,1))\n",
    "model.add(MaxPooling2D((2,2)))\n",
    "model.add(Dropout(0.2))\n",
    "model.add(32,activation = 'relu',kernel_size = 3,strides = 2,padding = 'same')\n",
    "model.add(MaxPooling2D((2,2)))\n",
    "model.add(Dropout(0.2))\n",
    "model.add(64,activation = 'relu',kernel_size = 3,strides = 2,padding = 'same')\n",
    "model.add(MaxPooling2D((2,2)))\n",
    "model.add(Dropout(0.2))\n",
    "model.add(Flatten())\n",
    "model.add(Dense(nLabels,activation = 'softmax'))\n",
    "model.compile(optimizer = Adam(),loss = 'categorical_crossentropy',metrics = ['accuracy'])"
   ]
  },
  {
   "cell_type": "code",
   "execution_count": 4,
   "metadata": {},
   "outputs": [],
   "source": [
    "#Train the model and save weights \n",
    "from datetime import datetime \n",
    "from keras.callbacks import ModelCheckpoint\n",
    "nEpochs = 72; batchSize = 64\n",
    "#checkpointer = ModelCheckpoint(filepath = '', verbose=1, save_best_only=True)\n",
    "start = datetime.now()\n",
    "model.fit(x_train,y_train,epochs = nEpochs,batch_size = batchSize,validation_data = (x_test,y_test),verbose = 2)\n",
    "duration = datetime.now() - start\n",
    "print(\"Training completed in:\",duration)    "
   ]
  },
  {
   "cell_type": "code",
   "execution_count": null,
   "metadata": {},
   "outputs": [],
   "source": [
    "#Plot the models"
   ]
  }
 ],
 "metadata": {
  "kernelspec": {
   "display_name": "Python 3",
   "language": "python",
   "name": "python3"
  },
  "language_info": {
   "codemirror_mode": {
    "name": "ipython",
    "version": 3
   },
   "file_extension": ".py",
   "mimetype": "text/x-python",
   "name": "python",
   "nbconvert_exporter": "python",
   "pygments_lexer": "ipython3",
   "version": "3.7.6"
  }
 },
 "nbformat": 4,
 "nbformat_minor": 4
}
