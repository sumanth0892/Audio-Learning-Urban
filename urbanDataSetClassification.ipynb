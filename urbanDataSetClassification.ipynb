{
 "cells": [
  {
   "cell_type": "code",
   "execution_count": 1,
   "metadata": {},
   "outputs": [
    {
     "name": "stderr",
     "output_type": "stream",
     "text": [
      "/usr/local/lib/python3.7/site-packages/librosa/util/decorators.py:9: NumbaDeprecationWarning: An import was requested from a module that has moved location.\n",
      "Import requested from: 'numba.decorators', please update to use 'numba.core.decorators' or pin to Numba version 0.48.0. This alias will not be present in Numba version 0.50.0.\n",
      "  from numba.decorators import jit as optional_jit\n",
      "/usr/local/lib/python3.7/site-packages/librosa/util/decorators.py:9: NumbaDeprecationWarning: An import was requested from a module that has moved location.\n",
      "Import of 'jit' requested from: 'numba.decorators', please update to use 'numba.core.decorators' or pin to Numba version 0.48.0. This alias will not be present in Numba version 0.50.0.\n",
      "  from numba.decorators import jit as optional_jit\n",
      "Using TensorFlow backend.\n"
     ]
    }
   ],
   "source": [
    "#Import the necessary libraries\n",
    "import os\n",
    "import warnings\n",
    "import numpy as np\n",
    "import getData as gD\n",
    "from sklearn import metrics\n",
    "import matplotlib.pyplot as plt\n",
    "warnings.filterwarnings(\"ignore\")\n",
    "from keras.optimizers import Adam\n",
    "from keras.utils.np_utils import to_categorical\n",
    "from sklearn.model_selection import train_test_split\n",
    "from keras import models,layers "
   ]
  },
  {
   "cell_type": "code",
   "execution_count": 2,
   "metadata": {},
   "outputs": [],
   "source": [
    "#Get the datasets \n",
    "(X,Y) = gD.getDataSet()\n",
    "m,n = X.shape\n",
    "nLabels = 10\n",
    "Y = to_categorical(np.reshape(Y,(len(Y),1)))\n",
    "x_train, x_test, y_train, y_test = train_test_split(X, Y, test_size=0.2, random_state = 42)\n",
    "del X,Y #Free up some memory"
   ]
  },
  {
   "cell_type": "code",
   "execution_count": 9,
   "metadata": {},
   "outputs": [
    {
     "name": "stdout",
     "output_type": "stream",
     "text": [
      "Model: \"sequential_3\"\n",
      "_________________________________________________________________\n",
      "Layer (type)                 Output Shape              Param #   \n",
      "=================================================================\n",
      "dense_7 (Dense)              (None, 512)               20992     \n",
      "_________________________________________________________________\n",
      "dense_8 (Dense)              (None, 256)               131328    \n",
      "_________________________________________________________________\n",
      "dense_9 (Dense)              (None, 10)                2570      \n",
      "=================================================================\n",
      "Total params: 154,890\n",
      "Trainable params: 154,890\n",
      "Non-trainable params: 0\n",
      "_________________________________________________________________\n"
     ]
    }
   ],
   "source": [
    "#Build the model\n",
    "model = models.Sequential()\n",
    "model.add(layers.Dense(512,activation = 'relu',input_shape = (n,)))\n",
    "model.add(layers.Dense(256,activation = 'relu'))\n",
    "model.add(layers.Dense(10,activation = 'softmax'))\n",
    "model.compile(loss = 'categorical_crossentropy',metrics = ['accuracy'],optimizer = Adam())\n",
    "model.summary()"
   ]
  },
  {
   "cell_type": "code",
   "execution_count": 10,
   "metadata": {},
   "outputs": [
    {
     "name": "stdout",
     "output_type": "stream",
     "text": [
      "Train on 6985 samples, validate on 1747 samples\n",
      "Epoch 1/72\n",
      " - 1s - loss: 3.1640 - accuracy: 0.4555 - val_loss: 1.3340 - val_accuracy: 0.5890\n",
      "Epoch 2/72\n",
      " - 1s - loss: 1.2354 - accuracy: 0.6275 - val_loss: 1.2394 - val_accuracy: 0.6108\n",
      "Epoch 3/72\n",
      " - 1s - loss: 1.0682 - accuracy: 0.6817 - val_loss: 0.8531 - val_accuracy: 0.7138\n",
      "Epoch 4/72\n",
      " - 1s - loss: 0.8209 - accuracy: 0.7437 - val_loss: 0.8499 - val_accuracy: 0.7476\n",
      "Epoch 5/72\n",
      " - 1s - loss: 0.7084 - accuracy: 0.7744 - val_loss: 0.9834 - val_accuracy: 0.7064\n",
      "Epoch 6/72\n",
      " - 1s - loss: 0.6490 - accuracy: 0.7881 - val_loss: 0.6902 - val_accuracy: 0.7785\n",
      "Epoch 7/72\n",
      " - 1s - loss: 0.5207 - accuracy: 0.8256 - val_loss: 0.6548 - val_accuracy: 0.8054\n",
      "Epoch 8/72\n",
      " - 1s - loss: 0.4462 - accuracy: 0.8501 - val_loss: 0.5882 - val_accuracy: 0.8363\n",
      "Epoch 9/72\n",
      " - 1s - loss: 0.3983 - accuracy: 0.8679 - val_loss: 0.6269 - val_accuracy: 0.8111\n",
      "Epoch 10/72\n",
      " - 1s - loss: 0.3870 - accuracy: 0.8717 - val_loss: 0.5719 - val_accuracy: 0.8351\n",
      "Epoch 11/72\n",
      " - 1s - loss: 0.3310 - accuracy: 0.8890 - val_loss: 0.5192 - val_accuracy: 0.8552\n",
      "Epoch 12/72\n",
      " - 1s - loss: 0.2890 - accuracy: 0.9031 - val_loss: 0.6231 - val_accuracy: 0.8506\n",
      "Epoch 13/72\n",
      " - 1s - loss: 0.2614 - accuracy: 0.9134 - val_loss: 0.4901 - val_accuracy: 0.8827\n",
      "Epoch 14/72\n",
      " - 1s - loss: 0.2572 - accuracy: 0.9155 - val_loss: 0.4873 - val_accuracy: 0.8855\n",
      "Epoch 15/72\n",
      " - 1s - loss: 0.2029 - accuracy: 0.9353 - val_loss: 0.5133 - val_accuracy: 0.8586\n",
      "Epoch 16/72\n",
      " - 1s - loss: 0.1989 - accuracy: 0.9330 - val_loss: 0.5552 - val_accuracy: 0.8569\n",
      "Epoch 17/72\n",
      " - 1s - loss: 0.1777 - accuracy: 0.9406 - val_loss: 0.5002 - val_accuracy: 0.8815\n",
      "Epoch 18/72\n",
      " - 1s - loss: 0.1592 - accuracy: 0.9476 - val_loss: 0.5307 - val_accuracy: 0.8804\n",
      "Epoch 19/72\n",
      " - 1s - loss: 0.1793 - accuracy: 0.9403 - val_loss: 0.4640 - val_accuracy: 0.8861\n",
      "Epoch 20/72\n",
      " - 1s - loss: 0.2001 - accuracy: 0.9324 - val_loss: 0.4680 - val_accuracy: 0.8947\n",
      "Epoch 21/72\n",
      " - 1s - loss: 0.1471 - accuracy: 0.9550 - val_loss: 0.4532 - val_accuracy: 0.9027\n",
      "Epoch 22/72\n",
      " - 1s - loss: 0.1403 - accuracy: 0.9543 - val_loss: 0.5001 - val_accuracy: 0.8907\n",
      "Epoch 23/72\n",
      " - 1s - loss: 0.1332 - accuracy: 0.9553 - val_loss: 0.5531 - val_accuracy: 0.8855\n",
      "Epoch 24/72\n",
      " - 1s - loss: 0.1100 - accuracy: 0.9665 - val_loss: 0.4698 - val_accuracy: 0.8970\n",
      "Epoch 25/72\n",
      " - 1s - loss: 0.1100 - accuracy: 0.9641 - val_loss: 0.5159 - val_accuracy: 0.8924\n",
      "Epoch 26/72\n",
      " - 1s - loss: 0.1176 - accuracy: 0.9606 - val_loss: 0.4522 - val_accuracy: 0.9090\n",
      "Epoch 27/72\n",
      " - 1s - loss: 0.0737 - accuracy: 0.9757 - val_loss: 0.4856 - val_accuracy: 0.8964\n",
      "Epoch 28/72\n",
      " - 1s - loss: 0.0826 - accuracy: 0.9732 - val_loss: 0.5347 - val_accuracy: 0.9033\n",
      "Epoch 29/72\n",
      " - 1s - loss: 0.1235 - accuracy: 0.9605 - val_loss: 0.5410 - val_accuracy: 0.8964\n",
      "Epoch 30/72\n",
      " - 1s - loss: 0.1125 - accuracy: 0.9651 - val_loss: 0.5410 - val_accuracy: 0.8964\n",
      "Epoch 31/72\n",
      " - 1s - loss: 0.0991 - accuracy: 0.9664 - val_loss: 0.6971 - val_accuracy: 0.8712\n",
      "Epoch 32/72\n",
      " - 1s - loss: 0.1129 - accuracy: 0.9648 - val_loss: 0.5625 - val_accuracy: 0.8987\n",
      "Epoch 33/72\n",
      " - 1s - loss: 0.0928 - accuracy: 0.9711 - val_loss: 0.5379 - val_accuracy: 0.9044\n",
      "Epoch 34/72\n",
      " - 1s - loss: 0.0666 - accuracy: 0.9787 - val_loss: 0.5164 - val_accuracy: 0.8952\n",
      "Epoch 35/72\n",
      " - 1s - loss: 0.0574 - accuracy: 0.9815 - val_loss: 0.5275 - val_accuracy: 0.8924\n",
      "Epoch 36/72\n",
      " - 1s - loss: 0.0917 - accuracy: 0.9692 - val_loss: 0.5408 - val_accuracy: 0.8970\n",
      "Epoch 37/72\n",
      " - 1s - loss: 0.0791 - accuracy: 0.9751 - val_loss: 0.5453 - val_accuracy: 0.9027\n",
      "Epoch 38/72\n",
      " - 1s - loss: 0.0794 - accuracy: 0.9739 - val_loss: 0.6754 - val_accuracy: 0.8821\n",
      "Epoch 39/72\n",
      " - 1s - loss: 0.0632 - accuracy: 0.9794 - val_loss: 0.5827 - val_accuracy: 0.9073\n",
      "Epoch 40/72\n",
      " - 1s - loss: 0.0852 - accuracy: 0.9727 - val_loss: 0.5928 - val_accuracy: 0.8987\n",
      "Epoch 41/72\n",
      " - 1s - loss: 0.0499 - accuracy: 0.9818 - val_loss: 0.5800 - val_accuracy: 0.9050\n",
      "Epoch 42/72\n",
      " - 1s - loss: 0.0780 - accuracy: 0.9728 - val_loss: 0.6829 - val_accuracy: 0.8895\n",
      "Epoch 43/72\n",
      " - 1s - loss: 0.0416 - accuracy: 0.9863 - val_loss: 0.5510 - val_accuracy: 0.9153\n",
      "Epoch 44/72\n",
      " - 1s - loss: 0.0361 - accuracy: 0.9894 - val_loss: 0.6174 - val_accuracy: 0.9015\n",
      "Epoch 45/72\n",
      " - 1s - loss: 0.0693 - accuracy: 0.9785 - val_loss: 0.5821 - val_accuracy: 0.9021\n",
      "Epoch 46/72\n",
      " - 1s - loss: 0.0541 - accuracy: 0.9832 - val_loss: 0.7146 - val_accuracy: 0.8901\n",
      "Epoch 47/72\n",
      " - 1s - loss: 0.0927 - accuracy: 0.9705 - val_loss: 0.6745 - val_accuracy: 0.8912\n",
      "Epoch 48/72\n",
      " - 1s - loss: 0.0763 - accuracy: 0.9759 - val_loss: 0.6533 - val_accuracy: 0.9033\n",
      "Epoch 49/72\n",
      " - 1s - loss: 0.0578 - accuracy: 0.9818 - val_loss: 0.6045 - val_accuracy: 0.9061\n",
      "Epoch 50/72\n",
      " - 1s - loss: 0.0759 - accuracy: 0.9771 - val_loss: 0.7135 - val_accuracy: 0.9015\n",
      "Epoch 51/72\n",
      " - 1s - loss: 0.0373 - accuracy: 0.9883 - val_loss: 0.5918 - val_accuracy: 0.9136\n",
      "Epoch 52/72\n",
      " - 1s - loss: 0.0217 - accuracy: 0.9936 - val_loss: 0.6524 - val_accuracy: 0.9078\n",
      "Epoch 53/72\n",
      " - 1s - loss: 0.0190 - accuracy: 0.9948 - val_loss: 0.6703 - val_accuracy: 0.9130\n",
      "Epoch 54/72\n",
      " - 1s - loss: 0.0540 - accuracy: 0.9810 - val_loss: 0.7498 - val_accuracy: 0.8958\n",
      "Epoch 55/72\n",
      " - 1s - loss: 0.0812 - accuracy: 0.9722 - val_loss: 0.9325 - val_accuracy: 0.8804\n",
      "Epoch 56/72\n",
      " - 1s - loss: 0.0916 - accuracy: 0.9734 - val_loss: 0.7217 - val_accuracy: 0.9033\n",
      "Epoch 57/72\n",
      " - 1s - loss: 0.0432 - accuracy: 0.9857 - val_loss: 0.6277 - val_accuracy: 0.9107\n",
      "Epoch 58/72\n",
      " - 1s - loss: 0.0263 - accuracy: 0.9926 - val_loss: 0.6485 - val_accuracy: 0.9078\n",
      "Epoch 59/72\n",
      " - 1s - loss: 0.0276 - accuracy: 0.9924 - val_loss: 0.5582 - val_accuracy: 0.9222\n",
      "Epoch 60/72\n",
      " - 1s - loss: 0.0137 - accuracy: 0.9951 - val_loss: 0.5998 - val_accuracy: 0.9210\n",
      "Epoch 61/72\n",
      " - 1s - loss: 0.0193 - accuracy: 0.9938 - val_loss: 0.6386 - val_accuracy: 0.9181\n",
      "Epoch 62/72\n",
      " - 1s - loss: 0.0654 - accuracy: 0.9792 - val_loss: 0.6833 - val_accuracy: 0.8987\n",
      "Epoch 63/72\n",
      " - 1s - loss: 0.0945 - accuracy: 0.9698 - val_loss: 0.8543 - val_accuracy: 0.8861\n",
      "Epoch 64/72\n",
      " - 1s - loss: 0.0780 - accuracy: 0.9785 - val_loss: 0.6813 - val_accuracy: 0.9056\n",
      "Epoch 65/72\n",
      " - 1s - loss: 0.0296 - accuracy: 0.9894 - val_loss: 0.6796 - val_accuracy: 0.9130\n",
      "Epoch 66/72\n",
      " - 1s - loss: 0.0244 - accuracy: 0.9930 - val_loss: 0.5970 - val_accuracy: 0.9279\n",
      "Epoch 67/72\n",
      " - 1s - loss: 0.0151 - accuracy: 0.9940 - val_loss: 0.6483 - val_accuracy: 0.9227\n",
      "Epoch 68/72\n",
      " - 1s - loss: 0.0099 - accuracy: 0.9971 - val_loss: 0.6289 - val_accuracy: 0.9216\n",
      "Epoch 69/72\n",
      " - 1s - loss: 0.0083 - accuracy: 0.9974 - val_loss: 0.6362 - val_accuracy: 0.9239\n",
      "Epoch 70/72\n",
      " - 1s - loss: 0.0070 - accuracy: 0.9969 - val_loss: 0.6312 - val_accuracy: 0.9244\n",
      "Epoch 71/72\n",
      " - 1s - loss: 0.0067 - accuracy: 0.9976 - val_loss: 0.6404 - val_accuracy: 0.9222\n",
      "Epoch 72/72\n",
      " - 1s - loss: 0.0069 - accuracy: 0.9976 - val_loss: 0.6214 - val_accuracy: 0.9227\n",
      "Training completed in: 0:00:52.781225\n"
     ]
    }
   ],
   "source": [
    "#Train the model and save weights \n",
    "from datetime import datetime \n",
    "from keras.callbacks import ModelCheckpoint\n",
    "nEpochs = 72; batchSize = 32\n",
    "#checkpointer = ModelCheckpoint(filepath = '', verbose=1, save_best_only=True)\n",
    "start = datetime.now()\n",
    "history = model.fit(x_train,y_train,epochs = nEpochs,batch_size = batchSize,validation_data = (x_test,y_test),verbose = 2)\n",
    "duration = datetime.now() - start\n",
    "print(\"Training completed in:\",duration)    "
   ]
  },
  {
   "cell_type": "code",
   "execution_count": 11,
   "metadata": {},
   "outputs": [
    {
     "data": {
      "image/png": "[encoded data removed]",
      "text/plain": [
       "<Figure size 432x288 with 1 Axes>"
      ]
     },
     "metadata": {
      "needs_background": "light"
     },
     "output_type": "display_data"
    }
   ],
   "source": [
    "#Plot the models\n",
    "acc = history.history['accuracy']\n",
    "loss = history.history['loss']\n",
    "epochs = range(1,nEpochs+1)\n",
    "plt.plot(epochs,acc,'r',label = 'Training Accuracy')\n",
    "plt.plot(epochs,loss,'ro',label = 'Training Loss')\n",
    "plt.xlabel('Epochs')\n",
    "plt.ylabel('Training Loss and Accuracy values')\n",
    "plt.legend(loc = 'best')\n",
    "plt.grid(True)\n",
    "plt.show()"
   ]
  },
  {
   "cell_type": "code",
   "execution_count": null,
   "metadata": {},
   "outputs": [],
   "source": []
  }
 ],
 "metadata": {
  "kernelspec": {
   "display_name": "Python 3",
   "language": "python",
   "name": "python3"
  },
  "language_info": {
   "codemirror_mode": {
    "name": "ipython",
    "version": 3
   },
   "file_extension": ".py",
   "mimetype": "text/x-python",
   "name": "python",
   "nbconvert_exporter": "python",
   "pygments_lexer": "ipython3",
   "version": "3.7.6"
  }
 },
 "nbformat": 4,
 "nbformat_minor": 4
}
